{
 "cells": [
  {
   "cell_type": "markdown",
   "id": "30b9cc96",
   "metadata": {},
   "source": [
    "<img src=\"https://miro.medium.com/max/1218/1*4-c4LZRDJVFXBzWiRpaK4A.png\" width = 400 height = 250 />\n"
   ]
  },
  {
   "cell_type": "code",
   "execution_count": 1,
   "id": "2c60bf0b",
   "metadata": {},
   "outputs": [],
   "source": [
    "## https://spark.apache.org/docs/latest/ml-frequent-pattern-mining.html"
   ]
  },
  {
   "cell_type": "code",
   "execution_count": 2,
   "id": "1e9b7f63",
   "metadata": {
    "scrolled": true
   },
   "outputs": [],
   "source": [
    "import warnings \n",
    "warnings.filterwarnings(\"ignore\") \n",
    "import pandas as pd \n",
    "\n",
    "import os\n",
    "import numpy as np\n",
    "os.environ[\"PYARROW_IGNORE_TIMEZONE\"] = \"1\"\n",
    "\n",
    "import findspark\n",
    "findspark.init()\n",
    "\n",
    "from pyspark import SparkContext\n",
    "from pyspark.sql.types import *\n",
    "from pyspark.sql import SparkSession\n",
    "from pyspark.sql import functions as F\n",
    "from pyspark.ml.fpm import FPGrowth"
   ]
  },
  {
   "cell_type": "code",
   "execution_count": 3,
   "id": "ecacde79",
   "metadata": {},
   "outputs": [
    {
     "data": {
      "text/html": [
       "\n",
       "            <div>\n",
       "                <p><b>SparkSession - in-memory</b></p>\n",
       "                \n",
       "        <div>\n",
       "            <p><b>SparkContext</b></p>\n",
       "\n",
       "            <p><a href=\"http://FIN1L41.kc.sss:4040\">Spark UI</a></p>\n",
       "\n",
       "            <dl>\n",
       "              <dt>Version</dt>\n",
       "                <dd><code>v3.1.2</code></dd>\n",
       "              <dt>Master</dt>\n",
       "                <dd><code>local[*]</code></dd>\n",
       "              <dt>AppName</dt>\n",
       "                <dd><code>fpgrowth</code></dd>\n",
       "            </dl>\n",
       "        </div>\n",
       "        \n",
       "            </div>\n",
       "        "
      ],
      "text/plain": [
       "<pyspark.sql.session.SparkSession at 0x212d699c460>"
      ]
     },
     "execution_count": 3,
     "metadata": {},
     "output_type": "execute_result"
    }
   ],
   "source": [
    "##SparkSession.stop(spark)\n",
    "spark = SparkSession.builder.master(\"local[*]\")\\\n",
    "        .appName('fpgrowth')\\\n",
    "        .config(\"spark.executor.memory\", '32G')\\\n",
    "        .config(\"spark.driver.memory\", '32G')\\\n",
    "        .getOrCreate()\n",
    "spark.conf.set(\"spark.sql.execution.arrow.enabled\",\"true\")\n",
    "spark"
   ]
  },
  {
   "cell_type": "code",
   "execution_count": 4,
   "id": "b2b0afec",
   "metadata": {},
   "outputs": [
    {
     "name": "stdout",
     "output_type": "stream",
     "text": [
      "root\n",
      " |-- transaction: string (nullable = true)\n",
      " |-- item: string (nullable = true)\n",
      "\n",
      "Row count: 1,048,575\n",
      "Distinct transactions: 43,559\n",
      "Distinct items: 2,867\n",
      "+-----------+----------+\n",
      "|transaction|      item|\n",
      "+-----------+----------+\n",
      "|10007638857|3708020202|\n",
      "|10007638857|2306030101|\n",
      "|10007638857|2207020101|\n",
      "|10007638857|2506040101|\n",
      "|21018312942|1801040202|\n",
      "|21018312942|2205040102|\n",
      "|21018312942|3602060101|\n",
      "|21018312942|1801050301|\n",
      "|21018312968|2702010101|\n",
      "|21018312968|1501070201|\n",
      "+-----------+----------+\n",
      "only showing top 10 rows\n",
      "\n"
     ]
    }
   ],
   "source": [
    "df = (spark.read.format(\"csv\").options(header = \"true\", delimiter = ';').load(os.path.join(os.path.abspath(''), 'data\\\\transactional_data.csv')))\n",
    "\n",
    "df.printSchema()\n",
    "print('Row count:', f'{df.count():,}')\n",
    "print('Distinct transactions:', f'{df.select(F.countDistinct(\"transaction\")).collect()[0][0]:,}')\n",
    "print('Distinct items:', f'{df.select(F.countDistinct(\"item\")).collect()[0][0]:,}')\n",
    "\n",
    "df.show(n = 10)"
   ]
  },
  {
   "cell_type": "code",
   "execution_count": 5,
   "id": "21514470",
   "metadata": {},
   "outputs": [],
   "source": [
    "## Dropping 'bad' items\n",
    "df = df.filter(~df.item.isin(['1505030101', '5801010101']))"
   ]
  },
  {
   "cell_type": "code",
   "execution_count": 6,
   "id": "03223a35",
   "metadata": {},
   "outputs": [
    {
     "name": "stdout",
     "output_type": "stream",
     "text": [
      "root\n",
      " |-- transaction: string (nullable = true)\n",
      " |-- collect_list(item): array (nullable = false)\n",
      " |    |-- element: string (containsNull = false)\n",
      "\n"
     ]
    }
   ],
   "source": [
    "basketdata = df.dropDuplicates(['transaction', 'item'])\n",
    "basketdata = basketdata.groupBy(\"transaction\").agg(F.collect_list(\"item\")).sort('transaction')\n",
    "basketdata.printSchema()"
   ]
  },
  {
   "cell_type": "code",
   "execution_count": 12,
   "id": "768fc143",
   "metadata": {},
   "outputs": [
    {
     "name": "stdout",
     "output_type": "stream",
     "text": [
      "+--------------------+----+\n",
      "|               items|freq|\n",
      "+--------------------+----+\n",
      "|        [3407010101]|3554|\n",
      "|        [3407010201]|3080|\n",
      "|        [1801050301]|2691|\n",
      "|        [3408020101]|2554|\n",
      "|[3408020101, 3407...| 492|\n",
      "|        [4302030101]|2464|\n",
      "|        [3407010401]|2132|\n",
      "|        [1501070201]|2032|\n",
      "|        [1801050103]|1994|\n",
      "|[1801050103, 1801...| 486|\n",
      "+--------------------+----+\n",
      "only showing top 10 rows\n",
      "\n"
     ]
    }
   ],
   "source": [
    "## Frequent Pattern Growth – FP Growth is a method of mining frequent itemsets using support, lift, and confidence.\n",
    "model = FPGrowth(itemsCol = \"collect_list(item)\", minSupport = 0.01, minConfidence = 0.01).fit(basketdata)\n",
    "# Display frequent itemsets.\n",
    "model.freqItemsets.show(n = 10)"
   ]
  },
  {
   "cell_type": "code",
   "execution_count": 13,
   "id": "8431f75a",
   "metadata": {},
   "outputs": [
    {
     "name": "stdout",
     "output_type": "stream",
     "text": [
      "Rule count: 102\n",
      "+------------+------------+-------------------+------------------+--------------------+\n",
      "|  antecedent|  consequent|         confidence|              lift|             support|\n",
      "+------------+------------+-------------------+------------------+--------------------+\n",
      "|[5001010502]|[5001010103]|  0.649402390438247| 35.67127203669559| 0.01496820404508827|\n",
      "|[5001010103]|[5001010502]| 0.8221941992433796| 35.67127203669558| 0.01496820404508827|\n",
      "|[3902020101]|[3902020201]|   0.82398753894081|33.733151511957466|0.012144447760508735|\n",
      "|[3902020201]|[3902020101]|0.49718045112781956|33.733151511957466|0.012144447760508735|\n",
      "|[5001010102]|[5001010501]| 0.7843530591775326|  32.1710309837233|   0.017952661906839|\n",
      "|[5001010501]|[5001010102]|  0.736346516007533|  32.1710309837233|   0.017952661906839|\n",
      "|[2103010201]|[2103010501]| 0.8604091456077015|27.969076099646173| 0.01641451823962901|\n",
      "|[2103010501]|[2103010201]| 0.5335820895522388|27.969076099646173| 0.01641451823962901|\n",
      "|[5001060101]|[5001070101]| 0.3756058158319871|27.497502070295003|0.010675176197800684|\n",
      "|[5001070101]|[5001060101]| 0.7815126050420168|27.497502070295003|0.010675176197800684|\n",
      "+------------+------------+-------------------+------------------+--------------------+\n",
      "only showing top 10 rows\n",
      "\n"
     ]
    }
   ],
   "source": [
    "# Display generated association rules.\n",
    "ar = model.associationRules.where(F.size(F.col('antecedent')) == 1).where(F.size(F.col('consequent')) == 1)\n",
    "print('Rule count:', f'{ar.count():,}')\n",
    "ar.sort('lift', ascending = False).show(n = 10)"
   ]
  },
  {
   "cell_type": "code",
   "execution_count": 16,
   "id": "d637c065",
   "metadata": {},
   "outputs": [
    {
     "name": "stdout",
     "output_type": "stream",
     "text": [
      "+------------+------------+------------------+------------------+-------------------+\n",
      "|  antecedent|  consequent|        confidence|              lift|            support|\n",
      "+------------+------------+------------------+------------------+-------------------+\n",
      "|[2103010501]|[2103010201]|0.5335820895522388|27.969076099646173|0.01641451823962901|\n",
      "|[2103010501]|[2103010101]|0.7029850746268657|25.753849340346207|0.02162584081360913|\n",
      "+------------+------------+------------------+------------------+-------------------+\n",
      "\n"
     ]
    }
   ],
   "source": [
    "## Analyze single item\n",
    "ar.filter(F.exists(F.col(\"antecedent\"), lambda x: x.startswith('2103010501'))).sort('lift', ascending = False).show(n = 10)"
   ]
  },
  {
   "cell_type": "code",
   "execution_count": 17,
   "id": "7daa0cf8",
   "metadata": {},
   "outputs": [
    {
     "name": "stdout",
     "output_type": "stream",
     "text": [
      "+------------+--------------------+----------+\n",
      "| transaction|  collect_list(item)|prediction|\n",
      "+------------+--------------------+----------+\n",
      "|100026000000|[5001010101, 4402...|        []|\n",
      "|110004000000|[5005010101, 5001...|        []|\n",
      "|110005000000|[5001010501, 5006...|        []|\n",
      "|120005000000|[4902080101, 5103...|        []|\n",
      "|130002000000|[3201020101, 1302...|        []|\n",
      "+------------+--------------------+----------+\n",
      "only showing top 5 rows\n",
      "\n"
     ]
    }
   ],
   "source": [
    "# transform examines the input items against all the association rules and summarize the consequents as prediction\n",
    "transformed = model.transform(basketdata)\n",
    "transformed = transformed.withColumn('transaction', df.transaction.cast(DecimalType(18, 0)))\n",
    "transformed.show(n = 5)"
   ]
  },
  {
   "cell_type": "code",
   "execution_count": 18,
   "id": "1106f9e7",
   "metadata": {},
   "outputs": [
    {
     "data": {
      "text/html": [
       "<div>\n",
       "<style scoped>\n",
       "    .dataframe tbody tr th:only-of-type {\n",
       "        vertical-align: middle;\n",
       "    }\n",
       "\n",
       "    .dataframe tbody tr th {\n",
       "        vertical-align: top;\n",
       "    }\n",
       "\n",
       "    .dataframe thead th {\n",
       "        text-align: right;\n",
       "    }\n",
       "</style>\n",
       "<table border=\"1\" class=\"dataframe\">\n",
       "  <thead>\n",
       "    <tr style=\"text-align: right;\">\n",
       "      <th></th>\n",
       "      <th>antecedent</th>\n",
       "      <th>consequent</th>\n",
       "      <th>confidence</th>\n",
       "      <th>lift</th>\n",
       "      <th>support</th>\n",
       "    </tr>\n",
       "  </thead>\n",
       "  <tbody>\n",
       "    <tr>\n",
       "      <th>0</th>\n",
       "      <td>[1801050202]</td>\n",
       "      <td>[1801050205]</td>\n",
       "      <td>0.490134</td>\n",
       "      <td>13.385412</td>\n",
       "      <td>0.017677</td>\n",
       "    </tr>\n",
       "    <tr>\n",
       "      <th>1</th>\n",
       "      <td>[1801050202]</td>\n",
       "      <td>[1801050301]</td>\n",
       "      <td>0.347549</td>\n",
       "      <td>5.625753</td>\n",
       "      <td>0.012535</td>\n",
       "    </tr>\n",
       "    <tr>\n",
       "      <th>2</th>\n",
       "      <td>[5006060101, 5001060101]</td>\n",
       "      <td>[5005010101]</td>\n",
       "      <td>0.796099</td>\n",
       "      <td>19.053455</td>\n",
       "      <td>0.010308</td>\n",
       "    </tr>\n",
       "    <tr>\n",
       "      <th>3</th>\n",
       "      <td>[5001060101]</td>\n",
       "      <td>[5005010101]</td>\n",
       "      <td>0.652666</td>\n",
       "      <td>15.620583</td>\n",
       "      <td>0.018550</td>\n",
       "    </tr>\n",
       "    <tr>\n",
       "      <th>4</th>\n",
       "      <td>[5001060101]</td>\n",
       "      <td>[5004020101]</td>\n",
       "      <td>0.413570</td>\n",
       "      <td>11.120190</td>\n",
       "      <td>0.011754</td>\n",
       "    </tr>\n",
       "  </tbody>\n",
       "</table>\n",
       "</div>"
      ],
      "text/plain": [
       "                 antecedent    consequent  confidence       lift   support\n",
       "0              [1801050202]  [1801050205]    0.490134  13.385412  0.017677\n",
       "1              [1801050202]  [1801050301]    0.347549   5.625753  0.012535\n",
       "2  [5006060101, 5001060101]  [5005010101]    0.796099  19.053455  0.010308\n",
       "3              [5001060101]  [5005010101]    0.652666  15.620583  0.018550\n",
       "4              [5001060101]  [5004020101]    0.413570  11.120190  0.011754"
      ]
     },
     "execution_count": 18,
     "metadata": {},
     "output_type": "execute_result"
    }
   ],
   "source": [
    "rules_df = model.associationRules.select(\"*\").toPandas()\n",
    "rules_df.head(5)"
   ]
  }
 ],
 "metadata": {
  "kernelspec": {
   "display_name": "Python 3 (ipykernel)",
   "language": "python",
   "name": "python3"
  },
  "language_info": {
   "codemirror_mode": {
    "name": "ipython",
    "version": 3
   },
   "file_extension": ".py",
   "mimetype": "text/x-python",
   "name": "python",
   "nbconvert_exporter": "python",
   "pygments_lexer": "ipython3",
   "version": "3.8.11"
  },
  "toc": {
   "base_numbering": 1,
   "nav_menu": {},
   "number_sections": true,
   "sideBar": true,
   "skip_h1_title": false,
   "title_cell": "Table of Contents",
   "title_sidebar": "Contents",
   "toc_cell": false,
   "toc_position": {
    "height": "727px",
    "left": "401px",
    "top": "88px",
    "width": "226px"
   },
   "toc_section_display": true,
   "toc_window_display": false
  },
  "varInspector": {
   "cols": {
    "lenName": 16,
    "lenType": 16,
    "lenVar": 40
   },
   "kernels_config": {
    "python": {
     "delete_cmd_postfix": "",
     "delete_cmd_prefix": "del ",
     "library": "var_list.py",
     "varRefreshCmd": "print(var_dic_list())"
    },
    "r": {
     "delete_cmd_postfix": ") ",
     "delete_cmd_prefix": "rm(",
     "library": "var_list.r",
     "varRefreshCmd": "cat(var_dic_list()) "
    }
   },
   "position": {
    "height": "404px",
    "left": "441px",
    "right": "20px",
    "top": "198px",
    "width": "576px"
   },
   "types_to_exclude": [
    "module",
    "function",
    "builtin_function_or_method",
    "instance",
    "_Feature"
   ],
   "window_display": true
  }
 },
 "nbformat": 4,
 "nbformat_minor": 5
}
